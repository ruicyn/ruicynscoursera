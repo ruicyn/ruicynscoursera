{
  "metadata": {
    "kernelspec": {
      "name": "python",
      "display_name": "Python (Pyodide)",
      "language": "python"
    },
    "language_info": {
      "codemirror_mode": {
        "name": "python",
        "version": 3
      },
      "file_extension": ".py",
      "mimetype": "text/x-python",
      "name": "python",
      "nbconvert_exporter": "python",
      "pygments_lexer": "ipython3",
      "version": "3.8"
    }
  },
  "nbformat_minor": 5,
  "nbformat": 4,
  "cells": [
    {
      "id": "12da3ddf-de1f-41a6-9dbe-01933b972a47",
      "cell_type": "markdown",
      "source": "# Data Science Tools and Ecosystem",
      "metadata": {}
    },
    {
      "id": "770eb789-e58b-4398-95f2-22213cd70284",
      "cell_type": "markdown",
      "source": "In this notebook, Data Science Tools and Ecosystem are summarized.",
      "metadata": {}
    },
    {
      "id": "c546d86f-da7c-447c-85a8-977d105b611e",
      "cell_type": "markdown",
      "source": "**Objectives**\n- Popular Languages for Data Science\n- Commonly Used Libraries by Data Scientists\n- Data Science Tools\n- Evaluating Arithmetic Expressions in Python",
      "metadata": {}
    },
    {
      "id": "2c17d186-539e-4a7b-b8a6-e161a105d2e5",
      "cell_type": "markdown",
      "source": "Some of the popular languages that Data Scientists use are:\n1. Python\n2. SQL\n3. R",
      "metadata": {}
    },
    {
      "id": "eaa07907-62cc-491d-b8f0-d5789b1a74dc",
      "cell_type": "markdown",
      "source": "Some of the commonly used libraries used by Data Scientists include:\n1. Matplotlib\n2. Scikit-learn\n3. NumPy",
      "metadata": {}
    },
    {
      "id": "6bf4c8b3-ff71-4420-81aa-c5eebc4751f8",
      "cell_type": "markdown",
      "source": "|Data Science Tools|\n|------------------|\n|Jupyter Notebook|\n|RStudio|\n|ApacheHadoop|\n",
      "metadata": {}
    },
    {
      "id": "6b3726c2-ac29-469a-8d4a-887132177eff",
      "cell_type": "markdown",
      "source": "### Below are a few examples of evaluating arithmetic expressions in Python|",
      "metadata": {}
    },
    {
      "id": "1e4530b4-6bf3-4663-b4ee-94cd645b10fd",
      "cell_type": "code",
      "source": "# This is a simple arithmetic expression to multiply then add integers.\n\n    # Define the numbers \na = 3 \nb = 4\nc = 5\n\n    # Perform multiplication and addition\nresult = (a*b)+c\n\n    # Print the result\nprint(\"The result of multiplication and addition is:\", result)",
      "metadata": {
        "trusted": true
      },
      "outputs": [
        {
          "name": "stdout",
          "text": "The result of multiplication and addition is: 17\n",
          "output_type": "stream"
        }
      ],
      "execution_count": 12
    },
    {
      "id": "d915ef52-6d70-44a9-bab9-058bb0b11299",
      "cell_type": "code",
      "source": "# This will convert 200 minutes to hours by dividing by 60\n\n# Define the numbers\na = 200\nb = 60\n\n#Perform division \nresult = a/b\n\n#Print the result\nprint (\"The result of division is:\", result)",
      "metadata": {
        "trusted": true
      },
      "outputs": [
        {
          "name": "stdout",
          "text": "The result of division is: 3.3333333333333335\n",
          "output_type": "stream"
        }
      ],
      "execution_count": 13
    },
    {
      "id": "9b0814b1-f6da-4baf-876f-14fe653d5a43",
      "cell_type": "markdown",
      "source": "## Author\nSim Rae Cyn",
      "metadata": {}
    },
    {
      "id": "d6ccbc3b-74db-4374-a9a4-e5d73eb7150a",
      "cell_type": "code",
      "source": "",
      "metadata": {
        "trusted": true
      },
      "outputs": [],
      "execution_count": null
    }
  ]
}